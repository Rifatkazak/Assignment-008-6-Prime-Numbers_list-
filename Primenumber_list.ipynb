{
 "cells": [
  {
   "cell_type": "code",
   "execution_count": 15,
   "metadata": {},
   "outputs": [
    {
     "name": "stdout",
     "output_type": "stream",
     "text": [
      "Print the prime numbers which are between 1 to entered limit number (n=) 52\n",
      "[2, 3, 5, 7, 11, 13, 17, 19, 23, 29, 31, 37, 41, 43, 47]\n"
     ]
    }
   ],
   "source": [
    "#prime number list\n",
    "n = int(input(\"Print the prime numbers which are between 1 to entered limit number (n=) \"))\n",
    "prime_list = []\n",
    "prime=False\n",
    "for i in range(2,n):\n",
    "    if i==2 :\n",
    "        prime_list.append(i)\n",
    "    else:\n",
    "        for j in range(2,i):\n",
    "            if i%j ==0 :\n",
    "                prime=False\n",
    "                break\n",
    "            else:\n",
    "                prime=True\n",
    "                continue\n",
    "    if prime==True:\n",
    "        prime_list.append(i)\n",
    "print(prime_list)\n",
    "\n",
    "        "
   ]
  }
 ],
 "metadata": {
  "kernelspec": {
   "display_name": "Python 3",
   "language": "python",
   "name": "python3"
  },
  "language_info": {
   "codemirror_mode": {
    "name": "ipython",
    "version": 3
   },
   "file_extension": ".py",
   "mimetype": "text/x-python",
   "name": "python",
   "nbconvert_exporter": "python",
   "pygments_lexer": "ipython3",
   "version": "3.8.5"
  }
 },
 "nbformat": 4,
 "nbformat_minor": 4
}
